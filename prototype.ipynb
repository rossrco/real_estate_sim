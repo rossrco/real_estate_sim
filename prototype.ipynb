{
 "cells": [
  {
   "cell_type": "code",
   "execution_count": 1,
   "metadata": {},
   "outputs": [],
   "source": [
    "import math\n",
    "import collections\n",
    "import pandas as pd\n",
    "import matplotlib.pyplot as plt\n",
    "from IPython.display import clear_output\n",
    "import utils"
   ]
  },
  {
   "cell_type": "code",
   "execution_count": 2,
   "metadata": {},
   "outputs": [],
   "source": [
    "# define annuity\n",
    "# define real estate market development\n",
    "# define stock market development\n",
    "# define currency exchange rate development"
   ]
  },
  {
   "cell_type": "code",
   "execution_count": 3,
   "metadata": {},
   "outputs": [],
   "source": [
    "MonthlyStatus = collections.namedtuple('MonthlyStatus',\n",
    "                                       ['mortgage_amount', 'price_index', 'current_price'])\n",
    "\n",
    "\n",
    "def get_price_index(year_growth_rate, month):\n",
    "    return math.pow(1 + year_growth_rate/12, month)\n",
    "\n",
    "\n",
    "class Simulation:\n",
    "    def __init__(self, growth_rate, purchase_price, mortgage):\n",
    "        self.growth_rate = growth_rate\n",
    "        self.purchase_price = purchase_price\n",
    "        self.mortgage = mortgage\n",
    "        self.mortgage_history = []\n",
    "        self.payment_history = []\n",
    "    \n",
    "    def get_monthly_status(self, month):\n",
    "        mortgage_amount = self.mortgage.mortgage_amount\n",
    "        price_index = get_price_index(self.growth_rate, month)\n",
    "        current_price = (self.purchase_price + (self.purchase_price * (price_index - 1)))\n",
    "        return MonthlyStatus(mortgage_amount, price_index, current_price)\n",
    "\n",
    "    def run(self):\n",
    "        i = 0\n",
    "        max_periods = self.mortgage.maturity * self.mortgage.n_periods\n",
    "        while self.mortgage.mortgage_amount > 0 and i <= max_periods:\n",
    "            self.mortgage_history.append(self.get_monthly_status(i))\n",
    "            self.payment_history.append(self.mortgage.get_next_payment())\n",
    "            i += 1"
   ]
  },
  {
   "cell_type": "code",
   "execution_count": 4,
   "metadata": {},
   "outputs": [],
   "source": [
    "mort = utils.Mortgage(50, 0.0305, 3.6e6, 30, 12)\n",
    "sim = Simulation(0.1, 4.2e6, mort)"
   ]
  },
  {
   "cell_type": "code",
   "execution_count": 5,
   "metadata": {},
   "outputs": [],
   "source": [
    "sim.run()"
   ]
  },
  {
   "cell_type": "code",
   "execution_count": 6,
   "metadata": {},
   "outputs": [],
   "source": [
    "result = pd.DataFrame(sim.payment_history).join(pd.DataFrame(sim.mortgage_history))"
   ]
  },
  {
   "cell_type": "code",
   "execution_count": 7,
   "metadata": {},
   "outputs": [],
   "source": [
    "result['monthly_payment'] = result.interest_amount + result.capital_downpayment_amount + result.fee"
   ]
  },
  {
   "cell_type": "code",
   "execution_count": 8,
   "metadata": {},
   "outputs": [],
   "source": [
    "# interbank interest rates depend on the economy\n",
    "# mortgage interest rates depend on the interbank interest rates\n",
    "# the currency exchange rate depends on oil prices\n",
    "\n",
    "# what do stock market prices depend on?\n",
    "# what do real estate prices depend on?\n",
    "# what do oil prices depend on?"
   ]
  },
  {
   "cell_type": "code",
   "execution_count": 14,
   "metadata": {},
   "outputs": [
    {
     "data": {
      "text/html": [
       "<div>\n",
       "<style scoped>\n",
       "    .dataframe tbody tr th:only-of-type {\n",
       "        vertical-align: middle;\n",
       "    }\n",
       "\n",
       "    .dataframe tbody tr th {\n",
       "        vertical-align: top;\n",
       "    }\n",
       "\n",
       "    .dataframe thead th {\n",
       "        text-align: right;\n",
       "    }\n",
       "</style>\n",
       "<table border=\"1\" class=\"dataframe\">\n",
       "  <thead>\n",
       "    <tr style=\"text-align: right;\">\n",
       "      <th></th>\n",
       "      <th>fee</th>\n",
       "      <th>interest_amount</th>\n",
       "      <th>capital_downpayment_amount</th>\n",
       "      <th>mortgage_amount</th>\n",
       "      <th>price_index</th>\n",
       "      <th>current_price</th>\n",
       "      <th>monthly_payment</th>\n",
       "    </tr>\n",
       "  </thead>\n",
       "  <tbody>\n",
       "    <tr>\n",
       "      <td>0</td>\n",
       "      <td>50</td>\n",
       "      <td>9150.000000</td>\n",
       "      <td>6124.995854</td>\n",
       "      <td>3.600000e+06</td>\n",
       "      <td>1.000000</td>\n",
       "      <td>4.200000e+06</td>\n",
       "      <td>15324.995854</td>\n",
       "    </tr>\n",
       "    <tr>\n",
       "      <td>1</td>\n",
       "      <td>50</td>\n",
       "      <td>9134.432302</td>\n",
       "      <td>6140.563552</td>\n",
       "      <td>3.593875e+06</td>\n",
       "      <td>1.008333</td>\n",
       "      <td>4.235000e+06</td>\n",
       "      <td>15324.995854</td>\n",
       "    </tr>\n",
       "    <tr>\n",
       "      <td>2</td>\n",
       "      <td>50</td>\n",
       "      <td>9118.825037</td>\n",
       "      <td>6156.170818</td>\n",
       "      <td>3.587734e+06</td>\n",
       "      <td>1.016736</td>\n",
       "      <td>4.270292e+06</td>\n",
       "      <td>15324.995854</td>\n",
       "    </tr>\n",
       "    <tr>\n",
       "      <td>3</td>\n",
       "      <td>50</td>\n",
       "      <td>9103.178102</td>\n",
       "      <td>6171.817752</td>\n",
       "      <td>3.581578e+06</td>\n",
       "      <td>1.025209</td>\n",
       "      <td>4.305877e+06</td>\n",
       "      <td>15324.995854</td>\n",
       "    </tr>\n",
       "    <tr>\n",
       "      <td>4</td>\n",
       "      <td>50</td>\n",
       "      <td>9087.491399</td>\n",
       "      <td>6187.504455</td>\n",
       "      <td>3.575406e+06</td>\n",
       "      <td>1.033752</td>\n",
       "      <td>4.341760e+06</td>\n",
       "      <td>15324.995854</td>\n",
       "    </tr>\n",
       "  </tbody>\n",
       "</table>\n",
       "</div>"
      ],
      "text/plain": [
       "   fee  interest_amount  capital_downpayment_amount  mortgage_amount  \\\n",
       "0   50      9150.000000                 6124.995854     3.600000e+06   \n",
       "1   50      9134.432302                 6140.563552     3.593875e+06   \n",
       "2   50      9118.825037                 6156.170818     3.587734e+06   \n",
       "3   50      9103.178102                 6171.817752     3.581578e+06   \n",
       "4   50      9087.491399                 6187.504455     3.575406e+06   \n",
       "\n",
       "   price_index  current_price  monthly_payment  \n",
       "0     1.000000   4.200000e+06     15324.995854  \n",
       "1     1.008333   4.235000e+06     15324.995854  \n",
       "2     1.016736   4.270292e+06     15324.995854  \n",
       "3     1.025209   4.305877e+06     15324.995854  \n",
       "4     1.033752   4.341760e+06     15324.995854  "
      ]
     },
     "execution_count": 14,
     "metadata": {},
     "output_type": "execute_result"
    }
   ],
   "source": [
    "result.head()"
   ]
  },
  {
   "cell_type": "code",
   "execution_count": 10,
   "metadata": {},
   "outputs": [
    {
     "data": {
      "image/png": "[encoded data removed]",
      "text/plain": [
       "<Figure size 432x288 with 1 Axes>"
      ]
     },
     "metadata": {
      "needs_background": "light"
     },
     "output_type": "display_data"
    }
   ],
   "source": [
    "plt.plot(result.interest_amount, label='interest')\n",
    "plt.plot(result.capital_downpayment_amount, label='capital_payment')\n",
    "plt.plot(result.monthly_payment, label='monthly_payment')\n",
    "plt.legend()\n",
    "plt.show()"
   ]
  },
  {
   "cell_type": "code",
   "execution_count": 11,
   "metadata": {},
   "outputs": [
    {
     "data": {
      "image/png": "[encoded data removed]",
      "text/plain": [
       "<Figure size 432x288 with 1 Axes>"
      ]
     },
     "metadata": {
      "needs_background": "light"
     },
     "output_type": "display_data"
    }
   ],
   "source": [
    "plt.plot(result.mortgage_amount)\n",
    "plt.show()"
   ]
  },
  {
   "cell_type": "code",
   "execution_count": 12,
   "metadata": {},
   "outputs": [
    {
     "name": "stdout",
     "output_type": "stream",
     "text": [
      "Paid interests to date: 321104\n",
      "Profit in case of sale: 1462364\n",
      "Equity to date: 230596\n"
     ]
    }
   ],
   "source": [
    "point_in_time = 36\n",
    "paid_interests = result.interest_amount.iloc[:point_in_time].sum() + result.fee.iloc[:point_in_time].sum()\n",
    "profit = result.current_price.iloc[point_in_time] - result.current_price.iloc[0]\n",
    "equity = result.capital_downpayment_amount.iloc[:point_in_time].sum()\n",
    "deposit = result.current_price.iloc[0] - result.mortgage_amount[0]\n",
    "print('Paid interests to date: {:.0f}'.format(paid_interests))\n",
    "print('Profit in case of sale: {:.0f}'.format(profit))\n",
    "print('Equity to date: {:.0f}'.format(equity))"
   ]
  },
  {
   "cell_type": "code",
   "execution_count": 13,
   "metadata": {},
   "outputs": [
    {
     "name": "stdout",
     "output_type": "stream",
     "text": [
      "Total revenue: 2292960\n"
     ]
    }
   ],
   "source": [
    "total_revenue = equity + profit + deposit\n",
    "print('Total revenue: {:.0f}'.format(total_revenue))"
   ]
  },
  {
   "cell_type": "code",
   "execution_count": null,
   "metadata": {},
   "outputs": [],
   "source": []
  }
 ],
 "metadata": {
  "kernelspec": {
   "display_name": "Python 3",
   "language": "python",
   "name": "python3"
  },
  "language_info": {
   "codemirror_mode": {
    "name": "ipython",
    "version": 3
   },
   "file_extension": ".py",
   "mimetype": "text/x-python",
   "name": "python",
   "nbconvert_exporter": "python",
   "pygments_lexer": "ipython3",
   "version": "3.7.3"
  }
 },
 "nbformat": 4,
 "nbformat_minor": 4
}

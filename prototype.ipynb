{
 "cells": [
  {
   "cell_type": "code",
   "execution_count": 1,
   "metadata": {},
   "outputs": [],
   "source": [
    "import math\n",
    "import collections\n",
    "import pandas as pd\n",
    "import numpy as np\n",
    "import matplotlib.pyplot as plt\n",
    "from IPython.display import clear_output\n",
    "import utils"
   ]
  },
  {
   "cell_type": "code",
   "execution_count": 2,
   "metadata": {},
   "outputs": [],
   "source": [
    "class Simulation:\n",
    "    def __init__(self, scenarios):\n",
    "        self.scenarios = scenarios\n",
    "        self.history = pd.DataFrame()\n",
    "        self.profit = pd.DataFrame(columns=['scenario_name', 'profit_real_estate', 'profit_stocks'])\n",
    "\n",
    "    def simulate(self):\n",
    "        profit_data = []\n",
    "        for i, scenario in enumerate(self.scenarios[:100]):\n",
    "            scenario.run()\n",
    "            self.history = self.history.append(scenario.history, ignore_index=True)\n",
    "            profit_data.append([scenario.name, scenario.profit_real_estate, scenario.profit_stocks])\n",
    "            clear_output()\n",
    "            print(f'Completed scenario {i}.')\n",
    "        self.profit = pd.DataFrame(profit_data, columns=['scenario_name', 'profit_real_estate', 'profit_stocks'])"
   ]
  },
  {
   "cell_type": "code",
   "execution_count": 3,
   "metadata": {},
   "outputs": [],
   "source": [
    "params = {'growth_rate_real_estate': np.arange(0.01, 0.15, 0.01),\n",
    "          'growth_rate_stocks': np.arange(0.01, 0.15, 0.01),\n",
    "          'initial_price_stocks': [100],\n",
    "          'mortgage_overpayment_amount': list(range(0, 20001, 5000)),\n",
    "          'investment_amount': list(range(0, 20001, 5000))}\n",
    "\n",
    "\n",
    "scenarios = []\n",
    "for gre in params['growth_rate_real_estate']:\n",
    "    for gs in params['growth_rate_stocks']:\n",
    "        for ps in params['initial_price_stocks']:\n",
    "            for ma in params['mortgage_overpayment_amount']:\n",
    "                for ia in params['investment_amount']:\n",
    "                    scenarios.append(utils.Scenario(utils.RealEstate(4.2e6, utils.Mortgage(0.0305, 3.6e6, 30, 12)), utils.Portfolio(), gre, gs, ps, ma, ia))\n",
    "\n",
    "\n",
    "sim = Simulation(scenarios)"
   ]
  },
  {
   "cell_type": "code",
   "execution_count": 4,
   "metadata": {},
   "outputs": [
    {
     "name": "stdout",
     "output_type": "stream",
     "text": [
      "Completed scenario 99.\n",
      "CPU times: user 1.71 s, sys: 143 ms, total: 1.86 s\n",
      "Wall time: 1.78 s\n"
     ]
    }
   ],
   "source": [
    "%%time\n",
    "sim.simulate()"
   ]
  },
  {
   "cell_type": "code",
   "execution_count": 5,
   "metadata": {},
   "outputs": [],
   "source": [
    "data = sim.history"
   ]
  },
  {
   "cell_type": "code",
   "execution_count": 6,
   "metadata": {},
   "outputs": [
    {
     "data": {
      "text/html": [
       "<div>\n",
       "<style scoped>\n",
       "    .dataframe tbody tr th:only-of-type {\n",
       "        vertical-align: middle;\n",
       "    }\n",
       "\n",
       "    .dataframe tbody tr th {\n",
       "        vertical-align: top;\n",
       "    }\n",
       "\n",
       "    .dataframe thead th {\n",
       "        text-align: right;\n",
       "    }\n",
       "</style>\n",
       "<table border=\"1\" class=\"dataframe\">\n",
       "  <thead>\n",
       "    <tr style=\"text-align: right;\">\n",
       "      <th></th>\n",
       "      <th>mortgage_amount</th>\n",
       "      <th>price_index</th>\n",
       "      <th>current_price_real_est</th>\n",
       "      <th>interest_amount</th>\n",
       "      <th>capital_downpayment</th>\n",
       "      <th>invested_amount</th>\n",
       "      <th>purchase_price_stocks</th>\n",
       "      <th>current_price_stocks</th>\n",
       "      <th>value_stocks</th>\n",
       "      <th>scenario_name</th>\n",
       "      <th>month</th>\n",
       "      <th>profit_stocks</th>\n",
       "    </tr>\n",
       "  </thead>\n",
       "  <tbody>\n",
       "    <tr>\n",
       "      <td>0</td>\n",
       "      <td>3.600000e+06</td>\n",
       "      <td>1.000000</td>\n",
       "      <td>4.200000e+06</td>\n",
       "      <td>9150.000000</td>\n",
       "      <td>6124.995854</td>\n",
       "      <td>0</td>\n",
       "      <td>100.000000</td>\n",
       "      <td>134.969018</td>\n",
       "      <td>0.0</td>\n",
       "      <td>0.01_0.01_0_0</td>\n",
       "      <td>0</td>\n",
       "      <td>0.0</td>\n",
       "    </tr>\n",
       "    <tr>\n",
       "      <td>1</td>\n",
       "      <td>3.593875e+06</td>\n",
       "      <td>1.000833</td>\n",
       "      <td>4.203500e+06</td>\n",
       "      <td>9134.432302</td>\n",
       "      <td>6140.563552</td>\n",
       "      <td>0</td>\n",
       "      <td>100.083333</td>\n",
       "      <td>134.969018</td>\n",
       "      <td>0.0</td>\n",
       "      <td>0.01_0.01_0_0</td>\n",
       "      <td>1</td>\n",
       "      <td>0.0</td>\n",
       "    </tr>\n",
       "    <tr>\n",
       "      <td>2</td>\n",
       "      <td>3.587734e+06</td>\n",
       "      <td>1.001667</td>\n",
       "      <td>4.207003e+06</td>\n",
       "      <td>9118.825037</td>\n",
       "      <td>6156.170818</td>\n",
       "      <td>0</td>\n",
       "      <td>100.166736</td>\n",
       "      <td>134.969018</td>\n",
       "      <td>0.0</td>\n",
       "      <td>0.01_0.01_0_0</td>\n",
       "      <td>2</td>\n",
       "      <td>0.0</td>\n",
       "    </tr>\n",
       "    <tr>\n",
       "      <td>3</td>\n",
       "      <td>3.581578e+06</td>\n",
       "      <td>1.002502</td>\n",
       "      <td>4.210509e+06</td>\n",
       "      <td>9103.178102</td>\n",
       "      <td>6171.817752</td>\n",
       "      <td>0</td>\n",
       "      <td>100.250208</td>\n",
       "      <td>134.969018</td>\n",
       "      <td>0.0</td>\n",
       "      <td>0.01_0.01_0_0</td>\n",
       "      <td>3</td>\n",
       "      <td>0.0</td>\n",
       "    </tr>\n",
       "    <tr>\n",
       "      <td>4</td>\n",
       "      <td>3.575406e+06</td>\n",
       "      <td>1.003338</td>\n",
       "      <td>4.214018e+06</td>\n",
       "      <td>9087.491399</td>\n",
       "      <td>6187.504455</td>\n",
       "      <td>0</td>\n",
       "      <td>100.333750</td>\n",
       "      <td>134.969018</td>\n",
       "      <td>0.0</td>\n",
       "      <td>0.01_0.01_0_0</td>\n",
       "      <td>4</td>\n",
       "      <td>0.0</td>\n",
       "    </tr>\n",
       "  </tbody>\n",
       "</table>\n",
       "</div>"
      ],
      "text/plain": [
       "   mortgage_amount  price_index  current_price_real_est  interest_amount  \\\n",
       "0     3.600000e+06     1.000000            4.200000e+06      9150.000000   \n",
       "1     3.593875e+06     1.000833            4.203500e+06      9134.432302   \n",
       "2     3.587734e+06     1.001667            4.207003e+06      9118.825037   \n",
       "3     3.581578e+06     1.002502            4.210509e+06      9103.178102   \n",
       "4     3.575406e+06     1.003338            4.214018e+06      9087.491399   \n",
       "\n",
       "   capital_downpayment  invested_amount  purchase_price_stocks  \\\n",
       "0          6124.995854                0             100.000000   \n",
       "1          6140.563552                0             100.083333   \n",
       "2          6156.170818                0             100.166736   \n",
       "3          6171.817752                0             100.250208   \n",
       "4          6187.504455                0             100.333750   \n",
       "\n",
       "   current_price_stocks  value_stocks  scenario_name  month  profit_stocks  \n",
       "0            134.969018           0.0  0.01_0.01_0_0      0            0.0  \n",
       "1            134.969018           0.0  0.01_0.01_0_0      1            0.0  \n",
       "2            134.969018           0.0  0.01_0.01_0_0      2            0.0  \n",
       "3            134.969018           0.0  0.01_0.01_0_0      3            0.0  \n",
       "4            134.969018           0.0  0.01_0.01_0_0      4            0.0  "
      ]
     },
     "execution_count": 6,
     "metadata": {},
     "output_type": "execute_result"
    }
   ],
   "source": [
    "data.head()"
   ]
  },
  {
   "cell_type": "code",
   "execution_count": 7,
   "metadata": {},
   "outputs": [
    {
     "name": "stdout",
     "output_type": "stream",
     "text": [
      "<class 'pandas.core.frame.DataFrame'>\n",
      "RangeIndex: 20740 entries, 0 to 20739\n",
      "Data columns (total 12 columns):\n",
      "mortgage_amount           20740 non-null float64\n",
      "price_index               20740 non-null float64\n",
      "current_price_real_est    20740 non-null float64\n",
      "interest_amount           20740 non-null float64\n",
      "capital_downpayment       20740 non-null float64\n",
      "invested_amount           20740 non-null int64\n",
      "purchase_price_stocks     20740 non-null float64\n",
      "current_price_stocks      20740 non-null float64\n",
      "value_stocks              20740 non-null float64\n",
      "scenario_name             20740 non-null object\n",
      "month                     20740 non-null int64\n",
      "profit_stocks             20740 non-null float64\n",
      "dtypes: float64(9), int64(2), object(1)\n",
      "memory usage: 1.9+ MB\n"
     ]
    }
   ],
   "source": [
    "data.info()"
   ]
  },
  {
   "cell_type": "code",
   "execution_count": 8,
   "metadata": {},
   "outputs": [],
   "source": [
    "# create scenario compiler function (from a dictionary of lists of parameters)\n",
    "# add overall scenario results (profit stocks, profit mortgage, etc.)\n",
    "# implement https://en.wikipedia.org/wiki/Internal_rate_of_return"
   ]
  },
  {
   "cell_type": "code",
   "execution_count": null,
   "metadata": {},
   "outputs": [],
   "source": []
  }
 ],
 "metadata": {
  "kernelspec": {
   "display_name": "Python 3",
   "language": "python",
   "name": "python3"
  },
  "language_info": {
   "codemirror_mode": {
    "name": "ipython",
    "version": 3
   },
   "file_extension": ".py",
   "mimetype": "text/x-python",
   "name": "python",
   "nbconvert_exporter": "python",
   "pygments_lexer": "ipython3",
   "version": "3.7.3"
  }
 },
 "nbformat": 4,
 "nbformat_minor": 4
}

{
 "cells": [
  {
   "cell_type": "code",
   "execution_count": 1,
   "metadata": {},
   "outputs": [],
   "source": [
    "import math\n",
    "import collections\n",
    "import pandas as pd\n",
    "import matplotlib.pyplot as plt\n",
    "from IPython.display import clear_output\n",
    "import utils"
   ]
  },
  {
   "cell_type": "code",
   "execution_count": 2,
   "metadata": {},
   "outputs": [],
   "source": [
    "def get_price_index(year_growth_rate, month):\n",
    "    return math.pow(1 + year_growth_rate/12, month)\n",
    "\n",
    "\n",
    "class Simulation:\n",
    "    def __init__(self, scenario, real_estate, portfolio):\n",
    "        self.scenario = scenario\n",
    "        self.real_estate = real_estate\n",
    "        self.portfolio = portfolio\n",
    "\n",
    "    def run(self):\n",
    "        month = 0\n",
    "        maturity = self.real_estate.mortgage.maturity\n",
    "        n_periods = self.real_estate.mortgage.n_periods\n",
    "        max_periods = maturity * n_periods\n",
    "        new_monthly_payment_amount = self.real_estate.mortgage.monthly_payment + self.scenario['mortgage_overpay_month']\n",
    "        self.real_estate.mortgage.update_monthly_payment_amount(new_monthly_payment_amount)\n",
    "        while self.real_estate.mortgage.mortgage_amount > 0 and month <= max_periods:\n",
    "            real_estate_price_index = get_price_index(self.scenario['growth_rate_real_estate'], month)\n",
    "            self.real_estate.tick_month(real_estate_price_index)\n",
    "            stock_price = get_price_index(self.scenario['growth_rate_stocks'], month) * self.scenario['stock_price']\n",
    "            self.portfolio.purchase(self.scenario['mortgage_overpay_month'], stock_price)\n",
    "            self.portfolio.update_values(stock_price)\n",
    "            month += 1"
   ]
  },
  {
   "cell_type": "code",
   "execution_count": 3,
   "metadata": {},
   "outputs": [],
   "source": [
    "scenario_1 = {'growth_rate_real_estate': 0.05,\n",
    "              'growth_rate_stocks': 0.05,\n",
    "              'stock_price': 100,\n",
    "              'currency_exchange_rate': 8.5,\n",
    "              'mortgage_overpay_month': 5000}\n",
    "\n",
    "port = utils.Portfolio()\n",
    "mort = utils.Mortgage(50, 0.0305, 3.6e6, 30, 12)\n",
    "apartment = utils.RealEstate(4.2e6, mort)\n",
    "sim = Simulation(scenario_1, apartment, port)"
   ]
  },
  {
   "cell_type": "code",
   "execution_count": 4,
   "metadata": {},
   "outputs": [],
   "source": [
    "sim.run()"
   ]
  },
  {
   "cell_type": "code",
   "execution_count": 5,
   "metadata": {},
   "outputs": [
    {
     "data": {
      "text/html": [
       "<div>\n",
       "<style scoped>\n",
       "    .dataframe tbody tr th:only-of-type {\n",
       "        vertical-align: middle;\n",
       "    }\n",
       "\n",
       "    .dataframe tbody tr th {\n",
       "        vertical-align: top;\n",
       "    }\n",
       "\n",
       "    .dataframe thead th {\n",
       "        text-align: right;\n",
       "    }\n",
       "</style>\n",
       "<table border=\"1\" class=\"dataframe\">\n",
       "  <thead>\n",
       "    <tr style=\"text-align: right;\">\n",
       "      <th></th>\n",
       "      <th>mortgage_amount</th>\n",
       "      <th>price_index</th>\n",
       "      <th>current_price</th>\n",
       "      <th>fee</th>\n",
       "      <th>interest_amount</th>\n",
       "      <th>capital_downpayment</th>\n",
       "    </tr>\n",
       "  </thead>\n",
       "  <tbody>\n",
       "    <tr>\n",
       "      <td>0</td>\n",
       "      <td>3.600000e+06</td>\n",
       "      <td>1.000000</td>\n",
       "      <td>4.200000e+06</td>\n",
       "      <td>50</td>\n",
       "      <td>9150.000000</td>\n",
       "      <td>11124.995854</td>\n",
       "    </tr>\n",
       "    <tr>\n",
       "      <td>1</td>\n",
       "      <td>3.588875e+06</td>\n",
       "      <td>1.004167</td>\n",
       "      <td>4.217500e+06</td>\n",
       "      <td>50</td>\n",
       "      <td>9121.723969</td>\n",
       "      <td>11153.271885</td>\n",
       "    </tr>\n",
       "    <tr>\n",
       "      <td>2</td>\n",
       "      <td>3.577722e+06</td>\n",
       "      <td>1.008351</td>\n",
       "      <td>4.235073e+06</td>\n",
       "      <td>50</td>\n",
       "      <td>9093.376069</td>\n",
       "      <td>11181.619785</td>\n",
       "    </tr>\n",
       "    <tr>\n",
       "      <td>3</td>\n",
       "      <td>3.566540e+06</td>\n",
       "      <td>1.012552</td>\n",
       "      <td>4.252719e+06</td>\n",
       "      <td>50</td>\n",
       "      <td>9064.956119</td>\n",
       "      <td>11210.039735</td>\n",
       "    </tr>\n",
       "    <tr>\n",
       "      <td>4</td>\n",
       "      <td>3.555330e+06</td>\n",
       "      <td>1.016771</td>\n",
       "      <td>4.270439e+06</td>\n",
       "      <td>50</td>\n",
       "      <td>9036.463935</td>\n",
       "      <td>11238.531919</td>\n",
       "    </tr>\n",
       "  </tbody>\n",
       "</table>\n",
       "</div>"
      ],
      "text/plain": [
       "   mortgage_amount  price_index  current_price  fee  interest_amount  \\\n",
       "0     3.600000e+06     1.000000   4.200000e+06   50      9150.000000   \n",
       "1     3.588875e+06     1.004167   4.217500e+06   50      9121.723969   \n",
       "2     3.577722e+06     1.008351   4.235073e+06   50      9093.376069   \n",
       "3     3.566540e+06     1.012552   4.252719e+06   50      9064.956119   \n",
       "4     3.555330e+06     1.016771   4.270439e+06   50      9036.463935   \n",
       "\n",
       "   capital_downpayment  \n",
       "0         11124.995854  \n",
       "1         11153.271885  \n",
       "2         11181.619785  \n",
       "3         11210.039735  \n",
       "4         11238.531919  "
      ]
     },
     "execution_count": 5,
     "metadata": {},
     "output_type": "execute_result"
    }
   ],
   "source": [
    "pd.DataFrame(sim.real_estate.history).head()"
   ]
  },
  {
   "cell_type": "code",
   "execution_count": null,
   "metadata": {},
   "outputs": [],
   "source": []
  }
 ],
 "metadata": {
  "kernelspec": {
   "display_name": "Python 3",
   "language": "python",
   "name": "python3"
  },
  "language_info": {
   "codemirror_mode": {
    "name": "ipython",
    "version": 3
   },
   "file_extension": ".py",
   "mimetype": "text/x-python",
   "name": "python",
   "nbconvert_exporter": "python",
   "pygments_lexer": "ipython3",
   "version": "3.7.3"
  }
 },
 "nbformat": 4,
 "nbformat_minor": 4
}

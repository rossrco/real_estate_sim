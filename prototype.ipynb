{
 "cells": [
  {
   "cell_type": "code",
   "execution_count": 1,
   "metadata": {},
   "outputs": [],
   "source": [
    "import math\n",
    "import collections\n",
    "import pandas as pd\n",
    "import matplotlib.pyplot as plt\n",
    "from IPython.display import clear_output\n",
    "import utils"
   ]
  },
  {
   "cell_type": "code",
   "execution_count": 2,
   "metadata": {},
   "outputs": [],
   "source": [
    "MonthlyStatus = collections.namedtuple('MonthlyStatus',\n",
    "                                       ['mortgage_amount', 'price_index', 'price_real_estate'])\n",
    "\n",
    "\n",
    "def get_price_index(year_growth_rate, month):\n",
    "    return math.pow(1 + year_growth_rate/12, month)\n",
    "\n",
    "\n",
    "class Simulation:\n",
    "    def __init__(self, scenario, purchase_price, mortgage, portfolio):\n",
    "        self.scenario = scenario\n",
    "        self.purchase_price = purchase_price\n",
    "        self.mortgage = mortgage\n",
    "        self.portfolio = portfolio\n",
    "        self.mortgage_history = []\n",
    "        self.payment_history = []\n",
    "    \n",
    "    def get_monthly_status(self, month):\n",
    "        mortgage_amount = self.mortgage.mortgage_amount\n",
    "        price_index = get_price_index(self.scenario['growth_rate_real_estate'], month)\n",
    "        current_price = (self.purchase_price + (self.purchase_price * (price_index - 1)))\n",
    "        return MonthlyStatus(mortgage_amount, price_index, current_price)\n",
    "\n",
    "    def run(self):\n",
    "        i = 0\n",
    "        max_periods = self.mortgage.maturity * self.mortgage.n_periods\n",
    "        new_monthly_payment_amount = self.mortgage.monthly_payment + self.scenario['mortgage_overpay_month']\n",
    "        self.mortgage.update_monthly_payment_amount(new_monthly_payment_amount)\n",
    "        while self.mortgage.mortgage_amount > 0 and i <= max_periods:\n",
    "            self.mortgage_history.append(self.get_monthly_status(i))\n",
    "            self.payment_history.append(self.mortgage.get_next_payment())\n",
    "            current_stock_price = (get_price_index(self.scenario['growth_rate_stocks'], i)\n",
    "                                   * self.scenario['stock_price'])\n",
    "            self.portfolio.purchase(self.scenario['mortgage_overpay_month'], current_stock_price)\n",
    "            self.portfolio.update_values(current_stock_price)\n",
    "            i += 1"
   ]
  },
  {
   "cell_type": "code",
   "execution_count": 3,
   "metadata": {},
   "outputs": [],
   "source": [
    "scenario_1 = {'growth_rate_real_estate': 0.05,\n",
    "              'growth_rate_stocks': 0.05,\n",
    "              'stock_price': 100,\n",
    "              'currency_exchange_rate': 8.5,\n",
    "              'mortgage_overpay_month': 5000}\n",
    "\n",
    "port = utils.Portfolio()\n",
    "mort = utils.Mortgage(50, 0.0305, 3.6e6, 30, 12)\n",
    "sim = Simulation(scenario_1, 4.2e6, mort, port)"
   ]
  },
  {
   "cell_type": "code",
   "execution_count": 4,
   "metadata": {},
   "outputs": [],
   "source": [
    "sim.run()"
   ]
  },
  {
   "cell_type": "code",
   "execution_count": 5,
   "metadata": {},
   "outputs": [],
   "source": [
    "result = (pd.DataFrame(sim.payment_history)\n",
    "          .join(pd.DataFrame(sim.mortgage_history))\n",
    "          .join(pd.DataFrame.from_records([el.to_dict() for el in sim.portfolio.purchases])))"
   ]
  },
  {
   "cell_type": "code",
   "execution_count": 6,
   "metadata": {},
   "outputs": [],
   "source": [
    "result['monthly_payment'] = result.interest_amount + result.capital_downpayment_amount + result.fee\n",
    "result['profit_stock'] = result.value_stock - result.purchase_price_stock"
   ]
  },
  {
   "cell_type": "code",
   "execution_count": 7,
   "metadata": {},
   "outputs": [
    {
     "data": {
      "text/html": [
       "<div>\n",
       "<style scoped>\n",
       "    .dataframe tbody tr th:only-of-type {\n",
       "        vertical-align: middle;\n",
       "    }\n",
       "\n",
       "    .dataframe tbody tr th {\n",
       "        vertical-align: top;\n",
       "    }\n",
       "\n",
       "    .dataframe thead th {\n",
       "        text-align: right;\n",
       "    }\n",
       "</style>\n",
       "<table border=\"1\" class=\"dataframe\">\n",
       "  <thead>\n",
       "    <tr style=\"text-align: right;\">\n",
       "      <th></th>\n",
       "      <th>fee</th>\n",
       "      <th>interest_amount</th>\n",
       "      <th>capital_downpayment_amount</th>\n",
       "      <th>mortgage_amount</th>\n",
       "      <th>price_index</th>\n",
       "      <th>price_real_estate</th>\n",
       "      <th>invested_amount</th>\n",
       "      <th>purchase_price_stock</th>\n",
       "      <th>value_stock</th>\n",
       "      <th>monthly_payment</th>\n",
       "      <th>profit_stock</th>\n",
       "    </tr>\n",
       "  </thead>\n",
       "  <tbody>\n",
       "    <tr>\n",
       "      <td>0</td>\n",
       "      <td>50</td>\n",
       "      <td>9150.000000</td>\n",
       "      <td>11124.995854</td>\n",
       "      <td>3.600000e+06</td>\n",
       "      <td>1.000000</td>\n",
       "      <td>4.200000e+06</td>\n",
       "      <td>5000</td>\n",
       "      <td>100.000000</td>\n",
       "      <td>13339.483312</td>\n",
       "      <td>20324.995854</td>\n",
       "      <td>13239.483312</td>\n",
       "    </tr>\n",
       "    <tr>\n",
       "      <td>1</td>\n",
       "      <td>50</td>\n",
       "      <td>9121.723969</td>\n",
       "      <td>11153.271885</td>\n",
       "      <td>3.588875e+06</td>\n",
       "      <td>1.004167</td>\n",
       "      <td>4.217500e+06</td>\n",
       "      <td>5000</td>\n",
       "      <td>100.416667</td>\n",
       "      <td>13284.132759</td>\n",
       "      <td>20324.995854</td>\n",
       "      <td>13183.716092</td>\n",
       "    </tr>\n",
       "    <tr>\n",
       "      <td>2</td>\n",
       "      <td>50</td>\n",
       "      <td>9093.376069</td>\n",
       "      <td>11181.619785</td>\n",
       "      <td>3.577722e+06</td>\n",
       "      <td>1.008351</td>\n",
       "      <td>4.235073e+06</td>\n",
       "      <td>5000</td>\n",
       "      <td>100.835069</td>\n",
       "      <td>13229.011876</td>\n",
       "      <td>20324.995854</td>\n",
       "      <td>13128.176807</td>\n",
       "    </tr>\n",
       "    <tr>\n",
       "      <td>3</td>\n",
       "      <td>50</td>\n",
       "      <td>9064.956119</td>\n",
       "      <td>11210.039735</td>\n",
       "      <td>3.566540e+06</td>\n",
       "      <td>1.012552</td>\n",
       "      <td>4.252719e+06</td>\n",
       "      <td>5000</td>\n",
       "      <td>101.255216</td>\n",
       "      <td>13174.119711</td>\n",
       "      <td>20324.995854</td>\n",
       "      <td>13072.864495</td>\n",
       "    </tr>\n",
       "    <tr>\n",
       "      <td>4</td>\n",
       "      <td>50</td>\n",
       "      <td>9036.463935</td>\n",
       "      <td>11238.531919</td>\n",
       "      <td>3.555330e+06</td>\n",
       "      <td>1.016771</td>\n",
       "      <td>4.270439e+06</td>\n",
       "      <td>5000</td>\n",
       "      <td>101.677112</td>\n",
       "      <td>13119.455314</td>\n",
       "      <td>20324.995854</td>\n",
       "      <td>13017.778201</td>\n",
       "    </tr>\n",
       "  </tbody>\n",
       "</table>\n",
       "</div>"
      ],
      "text/plain": [
       "   fee  interest_amount  capital_downpayment_amount  mortgage_amount  \\\n",
       "0   50      9150.000000                11124.995854     3.600000e+06   \n",
       "1   50      9121.723969                11153.271885     3.588875e+06   \n",
       "2   50      9093.376069                11181.619785     3.577722e+06   \n",
       "3   50      9064.956119                11210.039735     3.566540e+06   \n",
       "4   50      9036.463935                11238.531919     3.555330e+06   \n",
       "\n",
       "   price_index  price_real_estate  invested_amount  purchase_price_stock  \\\n",
       "0     1.000000       4.200000e+06             5000            100.000000   \n",
       "1     1.004167       4.217500e+06             5000            100.416667   \n",
       "2     1.008351       4.235073e+06             5000            100.835069   \n",
       "3     1.012552       4.252719e+06             5000            101.255216   \n",
       "4     1.016771       4.270439e+06             5000            101.677112   \n",
       "\n",
       "    value_stock  monthly_payment  profit_stock  \n",
       "0  13339.483312     20324.995854  13239.483312  \n",
       "1  13284.132759     20324.995854  13183.716092  \n",
       "2  13229.011876     20324.995854  13128.176807  \n",
       "3  13174.119711     20324.995854  13072.864495  \n",
       "4  13119.455314     20324.995854  13017.778201  "
      ]
     },
     "execution_count": 7,
     "metadata": {},
     "output_type": "execute_result"
    }
   ],
   "source": [
    "result.head()"
   ]
  },
  {
   "cell_type": "code",
   "execution_count": 8,
   "metadata": {},
   "outputs": [
    {
     "name": "stdout",
     "output_type": "stream",
     "text": [
      "<class 'pandas.core.frame.DataFrame'>\n",
      "RangeIndex: 237 entries, 0 to 236\n",
      "Data columns (total 11 columns):\n",
      "fee                           237 non-null int64\n",
      "interest_amount               237 non-null float64\n",
      "capital_downpayment_amount    237 non-null float64\n",
      "mortgage_amount               237 non-null float64\n",
      "price_index                   237 non-null float64\n",
      "price_real_estate             237 non-null float64\n",
      "invested_amount               237 non-null int64\n",
      "purchase_price_stock          237 non-null float64\n",
      "value_stock                   237 non-null float64\n",
      "monthly_payment               237 non-null float64\n",
      "profit_stock                  237 non-null float64\n",
      "dtypes: float64(9), int64(2)\n",
      "memory usage: 20.5 KB\n"
     ]
    }
   ],
   "source": [
    "result.info()"
   ]
  },
  {
   "cell_type": "code",
   "execution_count": 9,
   "metadata": {},
   "outputs": [
    {
     "name": "stdout",
     "output_type": "stream",
     "text": [
      "Paid interests to date: 108518\n",
      "Profit in case of sale: 214880\n",
      "Equity to date: 135382\n"
     ]
    }
   ],
   "source": [
    "point_in_time = 12\n",
    "paid_interests = result.interest_amount.iloc[:point_in_time].sum() + result.fee.iloc[:point_in_time].sum()\n",
    "profit = result.price_real_estate.iloc[point_in_time] - result.price_real_estate.iloc[0]\n",
    "equity = result.capital_downpayment_amount.iloc[:point_in_time].sum()\n",
    "deposit = result.price_real_estate.iloc[0] - result.mortgage_amount[0]\n",
    "print('Paid interests to date: {:.0f}'.format(paid_interests))\n",
    "print('Profit in case of sale: {:.0f}'.format(profit))\n",
    "print('Equity to date: {:.0f}'.format(equity))"
   ]
  },
  {
   "cell_type": "code",
   "execution_count": 10,
   "metadata": {},
   "outputs": [
    {
     "name": "stdout",
     "output_type": "stream",
     "text": [
      "Total revenue from mortgage: 950262\n"
     ]
    }
   ],
   "source": [
    "total_revenue = equity + profit + deposit\n",
    "print('Total revenue from mortgage: {:.0f}'.format(total_revenue))"
   ]
  },
  {
   "cell_type": "code",
   "execution_count": 12,
   "metadata": {},
   "outputs": [
    {
     "name": "stdout",
     "output_type": "stream",
     "text": [
      "Total revenue from stocks: 3159519\n",
      "Total profit from stocks: 1974519\n"
     ]
    }
   ],
   "source": [
    "print('Total revenue from stocks: {:.0f}'.format(result.invested_amount.sum() + result.profit_stock.sum()))\n",
    "print('Total profit from stocks: {:.0f}'.format(result.profit_stock.sum()))"
   ]
  },
  {
   "cell_type": "code",
   "execution_count": null,
   "metadata": {},
   "outputs": [],
   "source": []
  }
 ],
 "metadata": {
  "kernelspec": {
   "display_name": "Python 3",
   "language": "python",
   "name": "python3"
  },
  "language_info": {
   "codemirror_mode": {
    "name": "ipython",
    "version": 3
   },
   "file_extension": ".py",
   "mimetype": "text/x-python",
   "name": "python",
   "nbconvert_exporter": "python",
   "pygments_lexer": "ipython3",
   "version": "3.7.3"
  }
 },
 "nbformat": 4,
 "nbformat_minor": 4
}

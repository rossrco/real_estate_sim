{
 "cells": [
  {
   "cell_type": "code",
   "execution_count": 1,
   "metadata": {},
   "outputs": [],
   "source": [
    "import math\n",
    "import collections\n",
    "import pandas as pd\n",
    "import matplotlib.pyplot as plt\n",
    "from IPython.display import clear_output"
   ]
  },
  {
   "cell_type": "code",
   "execution_count": 2,
   "metadata": {},
   "outputs": [],
   "source": [
    "# define annuity\n",
    "# define real estate market development\n",
    "# define stock market development\n",
    "# define currency exchange rate development"
   ]
  },
  {
   "cell_type": "code",
   "execution_count": 3,
   "metadata": {},
   "outputs": [],
   "source": [
    "Payment = collections.namedtuple('Payment', ['fee', 'interest_amount', 'capital_downpayment_amount'])\n",
    "\n",
    "class Mortgage:\n",
    "    def __init__(self, service_fee, interest_rate, mortgage_amount, maturity, n_periods=12):\n",
    "        self.service_fee = service_fee\n",
    "        self.interest_rate = interest_rate\n",
    "        self.mortgage_amount = mortgage_amount\n",
    "        self.maturity = maturity\n",
    "        self.n_periods = n_periods\n",
    "        self.remaining_periods = maturity * n_periods\n",
    "        self.annuity_factor = self.get_annuity_factor()\n",
    "        self.monthly_payment = self.get_monthly_payment()\n",
    "    \n",
    "    def get_annuity_factor(self):\n",
    "        interest_rate_amount_increase = (math.pow((1 + self.interest_rate\n",
    "                                                   / self.n_periods),\n",
    "                                                  self.remaining_periods))\n",
    "        annuity_factor = ((interest_rate_amount_increase - 1)\n",
    "                          / ((self.interest_rate/self.n_periods)\n",
    "                             * interest_rate_amount_increase))\n",
    "        return annuity_factor\n",
    "\n",
    "    def get_monthly_payment(self):\n",
    "        self.annuity_factor = self.get_annuity_factor()\n",
    "        return self.mortgage_amount / self.annuity_factor\n",
    "    \n",
    "    def get_interest_amount(self):\n",
    "        return self.mortgage_amount * (self.interest_rate / self.n_periods)\n",
    "\n",
    "    def get_capital_downpayment(self):\n",
    "        interest_amount = self.get_interest_amount()\n",
    "        return self.monthly_payment - interest_amount\n",
    "    \n",
    "    def update_interest_rate(self, new_interest_rate):\n",
    "        self.interest_rate = new_interest_rate\n",
    "        self.annuity_factor = self.get_annuity_factor()\n",
    "        new_monthly_payment = self.get_monthly_payment()\n",
    "        self.update_monthly_payment_amount(new_monthly_payment)\n",
    "        return self\n",
    "    \n",
    "    def update_monthly_payment_amount(self, new_monthly_payment):\n",
    "        self.monthly_payment = new_monthly_payment\n",
    "        return self\n",
    "\n",
    "    def update_service_fee(self, new_service_fee):\n",
    "        self.service_fee = new_service_fee\n",
    "        return self\n",
    "    \n",
    "    def get_next_payment(self):\n",
    "        interest_amount = self.get_interest_amount()\n",
    "        capital_downpayment_amount = self.get_capital_downpayment()\n",
    "        payment = Payment(self.service_fee, interest_amount, capital_downpayment_amount)\n",
    "        self.remaining_periods -= 1\n",
    "        self.mortgage_amount -= capital_downpayment_amount\n",
    "        return payment"
   ]
  },
  {
   "cell_type": "code",
   "execution_count": 4,
   "metadata": {},
   "outputs": [],
   "source": [
    "# add a method to the Mortgage that yields a payment named tuple (fee, interest, capital_downpayment)\n",
    "# use the Mortgage class in another wrapper that updates the interest, the fee and runs through the payment plan"
   ]
  },
  {
   "cell_type": "code",
   "execution_count": 5,
   "metadata": {},
   "outputs": [],
   "source": [
    "mort = Mortgage(20, 0.0268, int(1e6), 30, 12)"
   ]
  },
  {
   "cell_type": "code",
   "execution_count": 6,
   "metadata": {},
   "outputs": [
    {
     "name": "stdout",
     "output_type": "stream",
     "text": [
      "6757.539351563504 64\n"
     ]
    }
   ],
   "source": [
    "i = 0\n",
    "hist = []\n",
    "payments = []\n",
    "while mort.mortgage_amount > 0 and i < int(1e4):\n",
    "    if i == 3:\n",
    "        mort.update_interest_rate(0.0305)\n",
    "    if i == 60:\n",
    "        mort.service_fee = 100\n",
    "    if i == 12:\n",
    "        mort.update_monthly_payment_amount(20000)\n",
    "    clear_output()\n",
    "    print(mort.mortgage_amount, i)\n",
    "    hist.append(mort.mortgage_amount)\n",
    "    payments.append(mort.get_next_payment())\n",
    "    i += 1"
   ]
  },
  {
   "cell_type": "code",
   "execution_count": 7,
   "metadata": {},
   "outputs": [],
   "source": [
    "df = pd.DataFrame(payments)\n",
    "df['remaining_amount'] = hist\n",
    "df['monthly_payment'] = df.interest_amount + df.capital_downpayment_amount + df.fee"
   ]
  },
  {
   "cell_type": "code",
   "execution_count": 8,
   "metadata": {},
   "outputs": [
    {
     "data": {
      "text/html": [
       "<div>\n",
       "<style scoped>\n",
       "    .dataframe tbody tr th:only-of-type {\n",
       "        vertical-align: middle;\n",
       "    }\n",
       "\n",
       "    .dataframe tbody tr th {\n",
       "        vertical-align: top;\n",
       "    }\n",
       "\n",
       "    .dataframe thead th {\n",
       "        text-align: right;\n",
       "    }\n",
       "</style>\n",
       "<table border=\"1\" class=\"dataframe\">\n",
       "  <thead>\n",
       "    <tr style=\"text-align: right;\">\n",
       "      <th></th>\n",
       "      <th>fee</th>\n",
       "      <th>interest_amount</th>\n",
       "      <th>capital_downpayment_amount</th>\n",
       "      <th>remaining_amount</th>\n",
       "      <th>monthly_payment</th>\n",
       "    </tr>\n",
       "  </thead>\n",
       "  <tbody>\n",
       "    <tr>\n",
       "      <td>0</td>\n",
       "      <td>20</td>\n",
       "      <td>2233.333333</td>\n",
       "      <td>1812.095880</td>\n",
       "      <td>1000000.000000</td>\n",
       "      <td>4065.429213</td>\n",
       "    </tr>\n",
       "    <tr>\n",
       "      <td>1</td>\n",
       "      <td>20</td>\n",
       "      <td>2229.286319</td>\n",
       "      <td>1816.142894</td>\n",
       "      <td>998187.904120</td>\n",
       "      <td>4065.429213</td>\n",
       "    </tr>\n",
       "    <tr>\n",
       "      <td>2</td>\n",
       "      <td>20</td>\n",
       "      <td>2225.230267</td>\n",
       "      <td>1820.198946</td>\n",
       "      <td>996371.761227</td>\n",
       "      <td>4065.429213</td>\n",
       "    </tr>\n",
       "    <tr>\n",
       "      <td>3</td>\n",
       "      <td>20</td>\n",
       "      <td>2527.818554</td>\n",
       "      <td>1713.822936</td>\n",
       "      <td>994551.562281</td>\n",
       "      <td>4261.641491</td>\n",
       "    </tr>\n",
       "    <tr>\n",
       "      <td>4</td>\n",
       "      <td>20</td>\n",
       "      <td>2523.462587</td>\n",
       "      <td>1718.178903</td>\n",
       "      <td>992837.739344</td>\n",
       "      <td>4261.641491</td>\n",
       "    </tr>\n",
       "    <tr>\n",
       "      <td>5</td>\n",
       "      <td>20</td>\n",
       "      <td>2519.095549</td>\n",
       "      <td>1722.545941</td>\n",
       "      <td>991119.560441</td>\n",
       "      <td>4261.641491</td>\n",
       "    </tr>\n",
       "    <tr>\n",
       "      <td>6</td>\n",
       "      <td>20</td>\n",
       "      <td>2514.717412</td>\n",
       "      <td>1726.924079</td>\n",
       "      <td>989397.014500</td>\n",
       "      <td>4261.641491</td>\n",
       "    </tr>\n",
       "    <tr>\n",
       "      <td>7</td>\n",
       "      <td>20</td>\n",
       "      <td>2510.328146</td>\n",
       "      <td>1731.313344</td>\n",
       "      <td>987670.090421</td>\n",
       "      <td>4261.641491</td>\n",
       "    </tr>\n",
       "    <tr>\n",
       "      <td>8</td>\n",
       "      <td>20</td>\n",
       "      <td>2505.927725</td>\n",
       "      <td>1735.713765</td>\n",
       "      <td>985938.777077</td>\n",
       "      <td>4261.641491</td>\n",
       "    </tr>\n",
       "    <tr>\n",
       "      <td>9</td>\n",
       "      <td>20</td>\n",
       "      <td>2501.516119</td>\n",
       "      <td>1740.125371</td>\n",
       "      <td>984203.063312</td>\n",
       "      <td>4261.641491</td>\n",
       "    </tr>\n",
       "    <tr>\n",
       "      <td>10</td>\n",
       "      <td>20</td>\n",
       "      <td>2497.093301</td>\n",
       "      <td>1744.548190</td>\n",
       "      <td>982462.937941</td>\n",
       "      <td>4261.641491</td>\n",
       "    </tr>\n",
       "    <tr>\n",
       "      <td>11</td>\n",
       "      <td>20</td>\n",
       "      <td>2492.659241</td>\n",
       "      <td>1748.982250</td>\n",
       "      <td>980718.389751</td>\n",
       "      <td>4261.641491</td>\n",
       "    </tr>\n",
       "    <tr>\n",
       "      <td>12</td>\n",
       "      <td>20</td>\n",
       "      <td>2488.213911</td>\n",
       "      <td>17511.786089</td>\n",
       "      <td>978969.407501</td>\n",
       "      <td>20020.000000</td>\n",
       "    </tr>\n",
       "    <tr>\n",
       "      <td>13</td>\n",
       "      <td>20</td>\n",
       "      <td>2443.704788</td>\n",
       "      <td>17556.295212</td>\n",
       "      <td>961457.621411</td>\n",
       "      <td>20020.000000</td>\n",
       "    </tr>\n",
       "    <tr>\n",
       "      <td>14</td>\n",
       "      <td>20</td>\n",
       "      <td>2399.082537</td>\n",
       "      <td>17600.917463</td>\n",
       "      <td>943901.326199</td>\n",
       "      <td>20020.000000</td>\n",
       "    </tr>\n",
       "  </tbody>\n",
       "</table>\n",
       "</div>"
      ],
      "text/plain": [
       "    fee  interest_amount  capital_downpayment_amount  remaining_amount  \\\n",
       "0    20      2233.333333                 1812.095880    1000000.000000   \n",
       "1    20      2229.286319                 1816.142894     998187.904120   \n",
       "2    20      2225.230267                 1820.198946     996371.761227   \n",
       "3    20      2527.818554                 1713.822936     994551.562281   \n",
       "4    20      2523.462587                 1718.178903     992837.739344   \n",
       "5    20      2519.095549                 1722.545941     991119.560441   \n",
       "6    20      2514.717412                 1726.924079     989397.014500   \n",
       "7    20      2510.328146                 1731.313344     987670.090421   \n",
       "8    20      2505.927725                 1735.713765     985938.777077   \n",
       "9    20      2501.516119                 1740.125371     984203.063312   \n",
       "10   20      2497.093301                 1744.548190     982462.937941   \n",
       "11   20      2492.659241                 1748.982250     980718.389751   \n",
       "12   20      2488.213911                17511.786089     978969.407501   \n",
       "13   20      2443.704788                17556.295212     961457.621411   \n",
       "14   20      2399.082537                17600.917463     943901.326199   \n",
       "\n",
       "    monthly_payment  \n",
       "0       4065.429213  \n",
       "1       4065.429213  \n",
       "2       4065.429213  \n",
       "3       4261.641491  \n",
       "4       4261.641491  \n",
       "5       4261.641491  \n",
       "6       4261.641491  \n",
       "7       4261.641491  \n",
       "8       4261.641491  \n",
       "9       4261.641491  \n",
       "10      4261.641491  \n",
       "11      4261.641491  \n",
       "12     20020.000000  \n",
       "13     20020.000000  \n",
       "14     20020.000000  "
      ]
     },
     "execution_count": 8,
     "metadata": {},
     "output_type": "execute_result"
    }
   ],
   "source": [
    "df.head(15)"
   ]
  },
  {
   "cell_type": "code",
   "execution_count": 9,
   "metadata": {},
   "outputs": [
    {
     "data": {
      "image/png": "[encoded data removed]",
      "text/plain": [
       "<Figure size 432x288 with 1 Axes>"
      ]
     },
     "metadata": {
      "needs_background": "light"
     },
     "output_type": "display_data"
    }
   ],
   "source": [
    "plt.plot(df.interest_amount, label='interest')\n",
    "plt.plot(df.capital_downpayment_amount, label='capital_payment')\n",
    "plt.plot(df.monthly_payment, label='monthly_payment')\n",
    "plt.legend()\n",
    "plt.show()"
   ]
  },
  {
   "cell_type": "code",
   "execution_count": 10,
   "metadata": {},
   "outputs": [
    {
     "data": {
      "image/png": "[encoded data removed]",
      "text/plain": [
       "<Figure size 432x288 with 1 Axes>"
      ]
     },
     "metadata": {
      "needs_background": "light"
     },
     "output_type": "display_data"
    }
   ],
   "source": [
    "plt.plot(df.remaining_amount)\n",
    "plt.show()"
   ]
  },
  {
   "cell_type": "code",
   "execution_count": null,
   "metadata": {},
   "outputs": [],
   "source": []
  }
 ],
 "metadata": {
  "kernelspec": {
   "display_name": "Python 3",
   "language": "python",
   "name": "python3"
  },
  "language_info": {
   "codemirror_mode": {
    "name": "ipython",
    "version": 3
   },
   "file_extension": ".py",
   "mimetype": "text/x-python",
   "name": "python",
   "nbconvert_exporter": "python",
   "pygments_lexer": "ipython3",
   "version": "3.7.3"
  }
 },
 "nbformat": 4,
 "nbformat_minor": 4
}

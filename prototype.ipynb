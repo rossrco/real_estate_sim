{
 "cells": [
  {
   "cell_type": "code",
   "execution_count": 1,
   "metadata": {},
   "outputs": [],
   "source": [
    "import math\n",
    "import collections\n",
    "import pandas as pd\n",
    "import numpy as np\n",
    "import matplotlib.pyplot as plt\n",
    "from IPython.display import clear_output\n",
    "import utils"
   ]
  },
  {
   "cell_type": "code",
   "execution_count": 2,
   "metadata": {},
   "outputs": [],
   "source": [
    "params = {'growth_rate_real_estate': [i/100 for i in list(range(3, 10))],\n",
    "          'growth_rate_stocks': [i/100 for i in list(range(3, 10))],\n",
    "          'initial_price_stocks': [100],\n",
    "          'mortgage_overpayment_amount': list(range(0, 20001, 5000)),\n",
    "          'investment_amount': list(range(0, 20001, 5000))}\n",
    "\n",
    "\n",
    "scenarios = []\n",
    "for gre in params['growth_rate_real_estate']:\n",
    "    for gs in params['growth_rate_stocks']:\n",
    "        for ps in params['initial_price_stocks']:\n",
    "            for ma in params['mortgage_overpayment_amount']:\n",
    "                for ia in params['investment_amount']:\n",
    "                    scenarios.append(utils.Scenario(utils.RealEstate(4.2e6, utils.Mortgage(0.0305, 3.6e6, 30, 12)), utils.Portfolio(), gre, gs, ps, ma, ia))\n",
    "\n",
    "\n",
    "sim = utils.Simulation(scenarios)"
   ]
  },
  {
   "cell_type": "code",
   "execution_count": 3,
   "metadata": {},
   "outputs": [
    {
     "name": "stdout",
     "output_type": "stream",
     "text": [
      "Completed scenario 1224.\n",
      "CPU times: user 49.5 s, sys: 14 s, total: 1min 3s\n",
      "Wall time: 1min 2s\n"
     ]
    }
   ],
   "source": [
    "%%time\n",
    "sim.simulate()"
   ]
  },
  {
   "cell_type": "code",
   "execution_count": 4,
   "metadata": {},
   "outputs": [],
   "source": [
    "history = sim.history"
   ]
  },
  {
   "cell_type": "code",
   "execution_count": 5,
   "metadata": {},
   "outputs": [
    {
     "data": {
      "text/html": [
       "<div>\n",
       "<style scoped>\n",
       "    .dataframe tbody tr th:only-of-type {\n",
       "        vertical-align: middle;\n",
       "    }\n",
       "\n",
       "    .dataframe tbody tr th {\n",
       "        vertical-align: top;\n",
       "    }\n",
       "\n",
       "    .dataframe thead th {\n",
       "        text-align: right;\n",
       "    }\n",
       "</style>\n",
       "<table border=\"1\" class=\"dataframe\">\n",
       "  <thead>\n",
       "    <tr style=\"text-align: right;\">\n",
       "      <th></th>\n",
       "      <th>mortgage_amount</th>\n",
       "      <th>price_index</th>\n",
       "      <th>current_price_real_est</th>\n",
       "      <th>interest_amount</th>\n",
       "      <th>capital_downpayment</th>\n",
       "      <th>purchase_price_stocks</th>\n",
       "      <th>current_price_stocks</th>\n",
       "      <th>value_stocks</th>\n",
       "      <th>scenario_name</th>\n",
       "      <th>growth_rate_real_estate</th>\n",
       "      <th>growth_rate_stocks</th>\n",
       "      <th>mortgage_overpayment_amount</th>\n",
       "      <th>investment_amount</th>\n",
       "      <th>month</th>\n",
       "      <th>profit_stocks</th>\n",
       "      <th>cumulative_interest_amount</th>\n",
       "      <th>cumulative_profit_stocks</th>\n",
       "      <th>current_profit_real_estate</th>\n",
       "    </tr>\n",
       "  </thead>\n",
       "  <tbody>\n",
       "    <tr>\n",
       "      <td>0</td>\n",
       "      <td>3.600000e+06</td>\n",
       "      <td>1.000000</td>\n",
       "      <td>4.200000e+06</td>\n",
       "      <td>9150.000000</td>\n",
       "      <td>6124.995854</td>\n",
       "      <td>100.000000</td>\n",
       "      <td>245.684221</td>\n",
       "      <td>0.0</td>\n",
       "      <td>0.03_0.03_0_0</td>\n",
       "      <td>0.03</td>\n",
       "      <td>0.03</td>\n",
       "      <td>0</td>\n",
       "      <td>0</td>\n",
       "      <td>0</td>\n",
       "      <td>0.0</td>\n",
       "      <td>9150.000000</td>\n",
       "      <td>0.0</td>\n",
       "      <td>-9150.000000</td>\n",
       "    </tr>\n",
       "    <tr>\n",
       "      <td>1</td>\n",
       "      <td>3.593875e+06</td>\n",
       "      <td>1.002500</td>\n",
       "      <td>4.210500e+06</td>\n",
       "      <td>9134.432302</td>\n",
       "      <td>6140.563552</td>\n",
       "      <td>100.250000</td>\n",
       "      <td>245.684221</td>\n",
       "      <td>0.0</td>\n",
       "      <td>0.03_0.03_0_0</td>\n",
       "      <td>0.03</td>\n",
       "      <td>0.03</td>\n",
       "      <td>0</td>\n",
       "      <td>0</td>\n",
       "      <td>1</td>\n",
       "      <td>0.0</td>\n",
       "      <td>18284.432302</td>\n",
       "      <td>0.0</td>\n",
       "      <td>-7784.432302</td>\n",
       "    </tr>\n",
       "    <tr>\n",
       "      <td>2</td>\n",
       "      <td>3.587734e+06</td>\n",
       "      <td>1.005006</td>\n",
       "      <td>4.221026e+06</td>\n",
       "      <td>9118.825037</td>\n",
       "      <td>6156.170818</td>\n",
       "      <td>100.500625</td>\n",
       "      <td>245.684221</td>\n",
       "      <td>0.0</td>\n",
       "      <td>0.03_0.03_0_0</td>\n",
       "      <td>0.03</td>\n",
       "      <td>0.03</td>\n",
       "      <td>0</td>\n",
       "      <td>0</td>\n",
       "      <td>2</td>\n",
       "      <td>0.0</td>\n",
       "      <td>27403.257339</td>\n",
       "      <td>0.0</td>\n",
       "      <td>-6377.007339</td>\n",
       "    </tr>\n",
       "    <tr>\n",
       "      <td>3</td>\n",
       "      <td>3.581578e+06</td>\n",
       "      <td>1.007519</td>\n",
       "      <td>4.231579e+06</td>\n",
       "      <td>9103.178102</td>\n",
       "      <td>6171.817752</td>\n",
       "      <td>100.751877</td>\n",
       "      <td>245.684221</td>\n",
       "      <td>0.0</td>\n",
       "      <td>0.03_0.03_0_0</td>\n",
       "      <td>0.03</td>\n",
       "      <td>0.03</td>\n",
       "      <td>0</td>\n",
       "      <td>0</td>\n",
       "      <td>3</td>\n",
       "      <td>0.0</td>\n",
       "      <td>36506.435441</td>\n",
       "      <td>0.0</td>\n",
       "      <td>-4927.619816</td>\n",
       "    </tr>\n",
       "    <tr>\n",
       "      <td>4</td>\n",
       "      <td>3.575406e+06</td>\n",
       "      <td>1.010038</td>\n",
       "      <td>4.242158e+06</td>\n",
       "      <td>9087.491399</td>\n",
       "      <td>6187.504455</td>\n",
       "      <td>101.003756</td>\n",
       "      <td>245.684221</td>\n",
       "      <td>0.0</td>\n",
       "      <td>0.03_0.03_0_0</td>\n",
       "      <td>0.03</td>\n",
       "      <td>0.03</td>\n",
       "      <td>0</td>\n",
       "      <td>0</td>\n",
       "      <td>4</td>\n",
       "      <td>0.0</td>\n",
       "      <td>45593.926840</td>\n",
       "      <td>0.0</td>\n",
       "      <td>-3436.164176</td>\n",
       "    </tr>\n",
       "  </tbody>\n",
       "</table>\n",
       "</div>"
      ],
      "text/plain": [
       "   mortgage_amount  price_index  current_price_real_est  interest_amount  \\\n",
       "0     3.600000e+06     1.000000            4.200000e+06      9150.000000   \n",
       "1     3.593875e+06     1.002500            4.210500e+06      9134.432302   \n",
       "2     3.587734e+06     1.005006            4.221026e+06      9118.825037   \n",
       "3     3.581578e+06     1.007519            4.231579e+06      9103.178102   \n",
       "4     3.575406e+06     1.010038            4.242158e+06      9087.491399   \n",
       "\n",
       "   capital_downpayment  purchase_price_stocks  current_price_stocks  \\\n",
       "0          6124.995854             100.000000            245.684221   \n",
       "1          6140.563552             100.250000            245.684221   \n",
       "2          6156.170818             100.500625            245.684221   \n",
       "3          6171.817752             100.751877            245.684221   \n",
       "4          6187.504455             101.003756            245.684221   \n",
       "\n",
       "   value_stocks  scenario_name  growth_rate_real_estate  growth_rate_stocks  \\\n",
       "0           0.0  0.03_0.03_0_0                     0.03                0.03   \n",
       "1           0.0  0.03_0.03_0_0                     0.03                0.03   \n",
       "2           0.0  0.03_0.03_0_0                     0.03                0.03   \n",
       "3           0.0  0.03_0.03_0_0                     0.03                0.03   \n",
       "4           0.0  0.03_0.03_0_0                     0.03                0.03   \n",
       "\n",
       "   mortgage_overpayment_amount  investment_amount  month  profit_stocks  \\\n",
       "0                            0                  0      0            0.0   \n",
       "1                            0                  0      1            0.0   \n",
       "2                            0                  0      2            0.0   \n",
       "3                            0                  0      3            0.0   \n",
       "4                            0                  0      4            0.0   \n",
       "\n",
       "   cumulative_interest_amount  cumulative_profit_stocks  \\\n",
       "0                 9150.000000                       0.0   \n",
       "1                18284.432302                       0.0   \n",
       "2                27403.257339                       0.0   \n",
       "3                36506.435441                       0.0   \n",
       "4                45593.926840                       0.0   \n",
       "\n",
       "   current_profit_real_estate  \n",
       "0                -9150.000000  \n",
       "1                -7784.432302  \n",
       "2                -6377.007339  \n",
       "3                -4927.619816  \n",
       "4                -3436.164176  "
      ]
     },
     "execution_count": 5,
     "metadata": {},
     "output_type": "execute_result"
    }
   ],
   "source": [
    "history.head()"
   ]
  },
  {
   "cell_type": "code",
   "execution_count": 6,
   "metadata": {},
   "outputs": [
    {
     "name": "stdout",
     "output_type": "stream",
     "text": [
      "<class 'pandas.core.frame.DataFrame'>\n",
      "RangeIndex: 254065 entries, 0 to 254064\n",
      "Data columns (total 18 columns):\n",
      "mortgage_amount                254065 non-null float64\n",
      "price_index                    254065 non-null float64\n",
      "current_price_real_est         254065 non-null float64\n",
      "interest_amount                254065 non-null float64\n",
      "capital_downpayment            254065 non-null float64\n",
      "purchase_price_stocks          254065 non-null float64\n",
      "current_price_stocks           254065 non-null float64\n",
      "value_stocks                   254065 non-null float64\n",
      "scenario_name                  254065 non-null object\n",
      "growth_rate_real_estate        254065 non-null float64\n",
      "growth_rate_stocks             254065 non-null float64\n",
      "mortgage_overpayment_amount    254065 non-null int64\n",
      "investment_amount              254065 non-null int64\n",
      "month                          254065 non-null int64\n",
      "profit_stocks                  254065 non-null float64\n",
      "cumulative_interest_amount     254065 non-null float64\n",
      "cumulative_profit_stocks       254065 non-null float64\n",
      "current_profit_real_estate     254065 non-null float64\n",
      "dtypes: float64(14), int64(3), object(1)\n",
      "memory usage: 34.9+ MB\n"
     ]
    }
   ],
   "source": [
    "history.info()"
   ]
  },
  {
   "cell_type": "code",
   "execution_count": 8,
   "metadata": {},
   "outputs": [],
   "source": [
    "totals = sim.profit"
   ]
  },
  {
   "cell_type": "code",
   "execution_count": 9,
   "metadata": {},
   "outputs": [
    {
     "data": {
      "text/html": [
       "<div>\n",
       "<style scoped>\n",
       "    .dataframe tbody tr th:only-of-type {\n",
       "        vertical-align: middle;\n",
       "    }\n",
       "\n",
       "    .dataframe tbody tr th {\n",
       "        vertical-align: top;\n",
       "    }\n",
       "\n",
       "    .dataframe thead th {\n",
       "        text-align: right;\n",
       "    }\n",
       "</style>\n",
       "<table border=\"1\" class=\"dataframe\">\n",
       "  <thead>\n",
       "    <tr style=\"text-align: right;\">\n",
       "      <th></th>\n",
       "      <th>scenario_name</th>\n",
       "      <th>profit_real_estate</th>\n",
       "      <th>profit_stocks</th>\n",
       "      <th>growth_rate_real_estate</th>\n",
       "      <th>growth_rate_stocks</th>\n",
       "      <th>mortgage_overpayment_amount</th>\n",
       "      <th>investment_amount</th>\n",
       "    </tr>\n",
       "  </thead>\n",
       "  <tbody>\n",
       "    <tr>\n",
       "      <td>0</td>\n",
       "      <td>0.03_0.03_0_0</td>\n",
       "      <td>4.219739e+06</td>\n",
       "      <td>0.000000e+00</td>\n",
       "      <td>0.03</td>\n",
       "      <td>0.03</td>\n",
       "      <td>0</td>\n",
       "      <td>0</td>\n",
       "    </tr>\n",
       "    <tr>\n",
       "      <td>1</td>\n",
       "      <td>0.03_0.03_0_5000</td>\n",
       "      <td>4.219739e+06</td>\n",
       "      <td>1.120969e+06</td>\n",
       "      <td>0.03</td>\n",
       "      <td>0.03</td>\n",
       "      <td>0</td>\n",
       "      <td>5000</td>\n",
       "    </tr>\n",
       "    <tr>\n",
       "      <td>2</td>\n",
       "      <td>0.03_0.03_0_10000</td>\n",
       "      <td>4.219739e+06</td>\n",
       "      <td>2.241937e+06</td>\n",
       "      <td>0.03</td>\n",
       "      <td>0.03</td>\n",
       "      <td>0</td>\n",
       "      <td>10000</td>\n",
       "    </tr>\n",
       "    <tr>\n",
       "      <td>3</td>\n",
       "      <td>0.03_0.03_0_15000</td>\n",
       "      <td>4.219739e+06</td>\n",
       "      <td>3.362906e+06</td>\n",
       "      <td>0.03</td>\n",
       "      <td>0.03</td>\n",
       "      <td>0</td>\n",
       "      <td>15000</td>\n",
       "    </tr>\n",
       "    <tr>\n",
       "      <td>4</td>\n",
       "      <td>0.03_0.03_0_20000</td>\n",
       "      <td>4.219739e+06</td>\n",
       "      <td>4.483875e+06</td>\n",
       "      <td>0.03</td>\n",
       "      <td>0.03</td>\n",
       "      <td>0</td>\n",
       "      <td>20000</td>\n",
       "    </tr>\n",
       "  </tbody>\n",
       "</table>\n",
       "</div>"
      ],
      "text/plain": [
       "       scenario_name  profit_real_estate  profit_stocks  \\\n",
       "0      0.03_0.03_0_0        4.219739e+06   0.000000e+00   \n",
       "1   0.03_0.03_0_5000        4.219739e+06   1.120969e+06   \n",
       "2  0.03_0.03_0_10000        4.219739e+06   2.241937e+06   \n",
       "3  0.03_0.03_0_15000        4.219739e+06   3.362906e+06   \n",
       "4  0.03_0.03_0_20000        4.219739e+06   4.483875e+06   \n",
       "\n",
       "   growth_rate_real_estate  growth_rate_stocks  mortgage_overpayment_amount  \\\n",
       "0                     0.03                0.03                            0   \n",
       "1                     0.03                0.03                            0   \n",
       "2                     0.03                0.03                            0   \n",
       "3                     0.03                0.03                            0   \n",
       "4                     0.03                0.03                            0   \n",
       "\n",
       "   investment_amount  \n",
       "0                  0  \n",
       "1               5000  \n",
       "2              10000  \n",
       "3              15000  \n",
       "4              20000  "
      ]
     },
     "execution_count": 9,
     "metadata": {},
     "output_type": "execute_result"
    }
   ],
   "source": [
    "totals.head()"
   ]
  },
  {
   "cell_type": "code",
   "execution_count": 10,
   "metadata": {},
   "outputs": [
    {
     "name": "stdout",
     "output_type": "stream",
     "text": [
      "<class 'pandas.core.frame.DataFrame'>\n",
      "RangeIndex: 1225 entries, 0 to 1224\n",
      "Data columns (total 7 columns):\n",
      "scenario_name                  1225 non-null object\n",
      "profit_real_estate             1225 non-null float64\n",
      "profit_stocks                  1225 non-null float64\n",
      "growth_rate_real_estate        1225 non-null float64\n",
      "growth_rate_stocks             1225 non-null float64\n",
      "mortgage_overpayment_amount    1225 non-null int64\n",
      "investment_amount              1225 non-null int64\n",
      "dtypes: float64(4), int64(2), object(1)\n",
      "memory usage: 67.1+ KB\n"
     ]
    }
   ],
   "source": [
    "totals.info()"
   ]
  },
  {
   "cell_type": "code",
   "execution_count": 11,
   "metadata": {},
   "outputs": [],
   "source": [
    "real_estate_price_15_y = 77339\n",
    "real_estate_price_0_y = 27308\n",
    "snp_price_15_y = 3235\n",
    "snp_price_0_y = 1186"
   ]
  },
  {
   "cell_type": "code",
   "execution_count": 12,
   "metadata": {},
   "outputs": [],
   "source": [
    "growth_rate_real_estate = math.pow(real_estate_price_15_y/real_estate_price_0_y, 1/15) - 1\n",
    "growth_rate_stocks = math.pow(snp_price_15_y/snp_price_0_y, 1/15) - 1"
   ]
  },
  {
   "cell_type": "code",
   "execution_count": 13,
   "metadata": {},
   "outputs": [
    {
     "name": "stdout",
     "output_type": "stream",
     "text": [
      "Growth rate real estate for the last 15 years: 7.19%, growth rate S&P500 for the last 15 years: 6.92%.\n"
     ]
    }
   ],
   "source": [
    "print(f'Growth rate real estate for the last 15 years: {growth_rate_real_estate:.2%}, growth rate S&P500 for the last 15 years: {growth_rate_stocks:.2%}.')"
   ]
  },
  {
   "cell_type": "code",
   "execution_count": 14,
   "metadata": {},
   "outputs": [],
   "source": [
    "# where is the break even point at various real estate growth rates (at what point in time the profit from the growth is more than the loss due to interest payments)\n",
    "# for various periods, with growth real estate on X and growth stocks on Y, what is the profit for various cases\n",
    "# for various periods, with overpayment real estate on X and investment on Y what is the profit for various cases\n",
    "# with today's growth rates, what is more profitable - overpayment or investment?"
   ]
  },
  {
   "cell_type": "code",
   "execution_count": null,
   "metadata": {},
   "outputs": [],
   "source": []
  }
 ],
 "metadata": {
  "kernelspec": {
   "display_name": "Python 3",
   "language": "python",
   "name": "python3"
  },
  "language_info": {
   "codemirror_mode": {
    "name": "ipython",
    "version": 3
   },
   "file_extension": ".py",
   "mimetype": "text/x-python",
   "name": "python",
   "nbconvert_exporter": "python",
   "pygments_lexer": "ipython3",
   "version": "3.7.3"
  }
 },
 "nbformat": 4,
 "nbformat_minor": 4
}

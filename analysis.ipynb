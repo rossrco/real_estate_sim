{
 "cells": [
  {
   "cell_type": "code",
   "execution_count": 1,
   "metadata": {},
   "outputs": [],
   "source": [
    "import math\n",
    "import pandas as pd\n",
    "import numpy as np\n",
    "import matplotlib.pyplot as plt\n",
    "import seaborn as sns\n",
    "import utils"
   ]
  },
  {
   "cell_type": "code",
   "execution_count": 2,
   "metadata": {},
   "outputs": [],
   "source": [
    "scenarios = []\n",
    "for gre in [i/100 for i in list(range(2, 10))]:\n",
    "    for gs in [i/100 for i in list(range(2, 10))]:\n",
    "        for ps in [100]:\n",
    "            for ma in list(range(0, 20001, 5000)):\n",
    "                for ia in list(range(0, 20001, 5000)):\n",
    "                    scenarios.append(utils.Scenario(utils.RealEstate(4.2e6,\n",
    "                                                                     utils.Mortgage(0.0305, 3.6e6, 30, 12)),\n",
    "                                                    utils.Portfolio(), gre, gs, ps, ma, ia))\n",
    "\n",
    "\n",
    "sim = utils.Simulation(scenarios)"
   ]
  },
  {
   "cell_type": "code",
   "execution_count": 3,
   "metadata": {},
   "outputs": [
    {
     "name": "stdout",
     "output_type": "stream",
     "text": [
      "Completed scenario 1599.\n",
      "CPU times: user 1min 8s, sys: 28.1 s, total: 1min 36s\n",
      "Wall time: 1min 34s\n"
     ]
    }
   ],
   "source": [
    "%%time\n",
    "sim.simulate()"
   ]
  },
  {
   "cell_type": "code",
   "execution_count": 4,
   "metadata": {},
   "outputs": [],
   "source": [
    "history = sim.history\n",
    "totals = sim.profit"
   ]
  },
  {
   "cell_type": "markdown",
   "metadata": {},
   "source": [
    "## Historical Market Development\n",
    "Let's first calculate the historical annual appreciation for real estate in Norway and the S&P500."
   ]
  },
  {
   "cell_type": "code",
   "execution_count": 10,
   "metadata": {},
   "outputs": [],
   "source": [
    "real_estate_price_15_y = 77339\n",
    "real_estate_price_0_y = 27308\n",
    "snp500_price_15_y = 3235\n",
    "snp500_price_0_y = 1186\n",
    "hist_growth_rate_real_estate = math.pow(real_estate_price_15_y/real_estate_price_0_y, 1/15) - 1\n",
    "hist_growth_rate_snp500 = math.pow(snp500_price_15_y/snp500_price_0_y, 1/15) - 1"
   ]
  },
  {
   "cell_type": "markdown",
   "metadata": {},
   "source": [
    "## Real Estate Profit At Various Overpayment Levels\n",
    "Here, we fix the annual real estate growth rate to its historic levels and compare the real estate profit for various overpayment amounts."
   ]
  },
  {
   "cell_type": "code",
   "execution_count": 17,
   "metadata": {},
   "outputs": [
    {
     "data": {
      "image/png": "[encoded data removed]",
      "text/plain": [
       "<Figure size 432x288 with 1 Axes>"
      ]
     },
     "metadata": {
      "needs_background": "light"
     },
     "output_type": "display_data"
    }
   ],
   "source": [
    "to_plot = history[(history.growth_rate_real_estate==round(hist_growth_rate_real_estate, 2))\n",
    "                  & (history.growth_rate_stocks==history.growth_rate_stocks.min())\n",
    "                  & (history.investment_amount==0)]\n",
    "\n",
    "for scenario in to_plot.scenario_name.unique():\n",
    "    subplot = history[history.scenario_name==scenario]\n",
    "    plt.plot(subplot.month, subplot.current_profit_real_estate, label=scenario)\n",
    "\n",
    "plt.legend()\n",
    "plt.xlabel('month')\n",
    "plt.ylabel('profit_nok')\n",
    "plt.title('Real Estate Profit At Various Overpayment Levels')\n",
    "plt.show()"
   ]
  },
  {
   "cell_type": "markdown",
   "metadata": {},
   "source": [
    "## Real Estate Profit At Various Growth Levels With No Overpayment\n",
    "We will now fix the overpayment to 0 and explore the real estate profit at various annual real estate growth levels."
   ]
  },
  {
   "cell_type": "code",
   "execution_count": null,
   "metadata": {},
   "outputs": [],
   "source": []
  },
  {
   "cell_type": "code",
   "execution_count": 7,
   "metadata": {},
   "outputs": [],
   "source": [
    "# where is the break even point at various real estate growth rates (at what point in time the profit from the growth is more than the loss due to interest payments)\n",
    "# for various periods, with growth real estate on X and growth stocks on Y, what is the profit for various cases\n",
    "# for various periods, with overpayment real estate on X and investment on Y what is the profit for various cases\n",
    "# with today's growth rates, what is more profitable - overpayment or investment?"
   ]
  }
 ],
 "metadata": {
  "kernelspec": {
   "display_name": "Python 3",
   "language": "python",
   "name": "python3"
  },
  "language_info": {
   "codemirror_mode": {
    "name": "ipython",
    "version": 3
   },
   "file_extension": ".py",
   "mimetype": "text/x-python",
   "name": "python",
   "nbconvert_exporter": "python",
   "pygments_lexer": "ipython3",
   "version": "3.7.3"
  }
 },
 "nbformat": 4,
 "nbformat_minor": 4
}

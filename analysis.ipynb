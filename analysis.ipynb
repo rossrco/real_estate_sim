{
 "cells": [
  {
   "cell_type": "code",
   "execution_count": 1,
   "metadata": {},
   "outputs": [],
   "source": [
    "import math\n",
    "import utils"
   ]
  },
  {
   "cell_type": "code",
   "execution_count": 2,
   "metadata": {},
   "outputs": [],
   "source": [
    "scenarios = []\n",
    "for gre in [i/100 for i in list(range(3, 10))]:\n",
    "    for gs in [i/100 for i in list(range(3, 10))]:\n",
    "        for ps in [100]:\n",
    "            for ma in list(range(0, 20001, 5000)):\n",
    "                for ia in list(range(0, 20001, 5000)):\n",
    "                    scenarios.append(utils.Scenario(utils.RealEstate(4.2e6,\n",
    "                                                                     utils.Mortgage(0.0305, 3.6e6, 30, 12)),\n",
    "                                                    utils.Portfolio(), gre, gs, ps, ma, ia))\n",
    "\n",
    "\n",
    "sim = utils.Simulation(scenarios)"
   ]
  },
  {
   "cell_type": "code",
   "execution_count": 3,
   "metadata": {},
   "outputs": [
    {
     "name": "stdout",
     "output_type": "stream",
     "text": [
      "Completed scenario 1224.\n",
      "CPU times: user 47.6 s, sys: 14.2 s, total: 1min 1s\n",
      "Wall time: 1min\n"
     ]
    }
   ],
   "source": [
    "%%time\n",
    "sim.simulate()"
   ]
  },
  {
   "cell_type": "code",
   "execution_count": null,
   "metadata": {},
   "outputs": [],
   "source": [
    "history = sim.history\n",
    "totals = sim.profit"
   ]
  },
  {
   "cell_type": "code",
   "execution_count": null,
   "metadata": {},
   "outputs": [],
   "source": [
    "# where is the break even point at various real estate growth rates (at what point in time the profit from the growth is more than the loss due to interest payments)\n",
    "# for various periods, with growth real estate on X and growth stocks on Y, what is the profit for various cases\n",
    "# for various periods, with overpayment real estate on X and investment on Y what is the profit for various cases\n",
    "# with today's growth rates, what is more profitable - overpayment or investment?"
   ]
  }
 ],
 "metadata": {
  "kernelspec": {
   "display_name": "Python 3",
   "language": "python",
   "name": "python3"
  },
  "language_info": {
   "codemirror_mode": {
    "name": "ipython",
    "version": 3
   },
   "file_extension": ".py",
   "mimetype": "text/x-python",
   "name": "python",
   "nbconvert_exporter": "python",
   "pygments_lexer": "ipython3",
   "version": "3.7.3"
  }
 },
 "nbformat": 4,
 "nbformat_minor": 4
}
